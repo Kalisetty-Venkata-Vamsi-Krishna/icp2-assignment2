{
 "cells": [
  {
   "cell_type": "code",
   "execution_count": 26,
   "id": "029e1faf-78ac-45e5-b6ce-7ac1e31f544e",
   "metadata": {},
   "outputs": [
    {
     "name": "stdout",
     "output_type": "stream",
     "text": [
      "* \n",
      "\n",
      "* * \n",
      "\n",
      "* * * \n",
      "\n",
      "* * * * \n",
      "\n",
      "* * * * * \n",
      "\n",
      "* * * * \n",
      "\n",
      "* * * \n",
      "\n",
      "* * \n",
      "\n",
      "* \n",
      "\n"
     ]
    }
   ],
   "source": [
    "star=\"*\"\n",
    "for i in range(1,6):\n",
    "    for j in range(i):\n",
    "        print(star,end=\" \")\n",
    "    print(\"\\n\")\n",
    "for i in range(5,1,-1):\n",
    "    for j in range(1,i):\n",
    "        print(star,end=\" \")\n",
    "    print(\"\\n\")\n",
    "    "
   ]
  },
  {
   "cell_type": "code",
   "execution_count": 32,
   "id": "13ae87d8-44be-418c-a83f-d7b597f69f40",
   "metadata": {},
   "outputs": [
    {
     "name": "stdout",
     "output_type": "stream",
     "text": [
      "[20, 40, 60, 80, 100]\n"
     ]
    }
   ],
   "source": [
    "my_list=[10,20,30,40,50,60,70,80,90,100]\n",
    "l=[]\n",
    "for i in range(1,10,2):\n",
    "    l.append(my_list[i])\n",
    "print(l)"
   ]
  },
  {
   "cell_type": "code",
   "execution_count": 38,
   "id": "31283fd0-eec9-4778-b099-0ee407945787",
   "metadata": {},
   "outputs": [
    {
     "name": "stdout",
     "output_type": "stream",
     "text": [
      "[23, 'Python', 23.98]\n",
      "[<class 'int'>, <class 'str'>, <class 'float'>]\n"
     ]
    }
   ],
   "source": [
    "x=[23, 'Python', 23.98]\n",
    "types=[]\n",
    "for i in range(len(x)):\n",
    "    types.append(type(x[i]))\n",
    "print(x)\n",
    "print(types)\n"
   ]
  },
  {
   "cell_type": "code",
   "execution_count": 51,
   "id": "c26782c8-88f1-482e-ac52-79bcc4c67d6b",
   "metadata": {},
   "outputs": [
    {
     "name": "stdout",
     "output_type": "stream",
     "text": [
      "simple list [1, 2, 3, 3, 3, 3, 4, 5]\n",
      "unique list [1, 2, 3, 4, 5]\n"
     ]
    }
   ],
   "source": [
    "simple_list=[1,2,3,3,3,3,4,5]\n",
    "unique_list=[]\n",
    "s=set(simple_list)\n",
    "unique_list=list(s)\n",
    "print(\"simple list\",simple_list)\n",
    "print(\"unique list\",unique_list)"
   ]
  },
  {
   "cell_type": "code",
   "execution_count": 50,
   "id": "686f4e62-dc9a-4136-815f-d60d4eb3b4f3",
   "metadata": {},
   "outputs": [
    {
     "name": "stdout",
     "output_type": "stream",
     "text": [
      "No. of upper-case characters: 3\n",
      "No. of lower-case characters: 12\n"
     ]
    }
   ],
   "source": [
    "def count_case(string):\n",
    "    uc,lc=0,0\n",
    "    for c in string:\n",
    "        if c.isupper():\n",
    "            uc+=1\n",
    "        elif c.islower():\n",
    "            lc+=1\n",
    "        else:\n",
    "            pass\n",
    "    return uc, lc\n",
    "string=\"The quick Brow Fox\"\n",
    "uppercase,lowercase = count_case(string)\n",
    "print(\"No. of upper-case characters:\",uppercase)\n",
    "print(\"No. of lower-case characters:\",lowercase)"
   ]
  },
  {
   "cell_type": "code",
   "execution_count": null,
   "id": "2a502b61-b714-4958-84b6-3c2389dcc498",
   "metadata": {},
   "outputs": [],
   "source": []
  }
 ],
 "metadata": {
  "kernelspec": {
   "display_name": "Python 3 (ipykernel)",
   "language": "python",
   "name": "python3"
  },
  "language_info": {
   "codemirror_mode": {
    "name": "ipython",
    "version": 3
   },
   "file_extension": ".py",
   "mimetype": "text/x-python",
   "name": "python",
   "nbconvert_exporter": "python",
   "pygments_lexer": "ipython3",
   "version": "3.12.1"
  }
 },
 "nbformat": 4,
 "nbformat_minor": 5
}
